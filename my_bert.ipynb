{
  "metadata": {
    "kernelspec": {
      "language": "python",
      "display_name": "Python 3",
      "name": "python3"
    },
    "language_info": {
      "name": "python",
      "version": "3.7.10",
      "mimetype": "text/x-python",
      "codemirror_mode": {
        "name": "ipython",
        "version": 3
      },
      "pygments_lexer": "ipython3",
      "nbconvert_exporter": "python",
      "file_extension": ".py"
    },
    "colab": {
      "name": "my_bert.ipynb",
      "provenance": []
    },
    "accelerator": "GPU"
  },
  "nbformat_minor": 0,
  "nbformat": 4,
  "cells": [
    {
      "cell_type": "code",
      "source": [
        "import numpy as np # linear algebra\n",
        "import pandas as pd # data processing, CSV file I/O (e.g. pd.read_csv)"
      ],
      "metadata": {
        "_uuid": "8f2839f25d086af736a60e9eeb907d3b93b6e0e5",
        "_cell_guid": "b1076dfc-b9ad-4769-8c92-a6c4dae69d19",
        "execution": {
          "iopub.status.busy": "2022-01-09T20:59:28.870374Z",
          "iopub.execute_input": "2022-01-09T20:59:28.870712Z",
          "iopub.status.idle": "2022-01-09T20:59:28.878487Z",
          "shell.execute_reply.started": "2022-01-09T20:59:28.870675Z",
          "shell.execute_reply": "2022-01-09T20:59:28.877621Z"
        },
        "trusted": true,
        "id": "68xKP7f3xJmp"
      },
      "execution_count": 1,
      "outputs": []
    },
    {
      "cell_type": "code",
      "source": [
        "train_data =  pd.read_csv(\"/content/train.csv\")\n",
        "validation_data =  pd.read_csv(\"/content/validation.csv\")\n",
        "data = pd.concat([train_data , validation_data])\n",
        "test =  pd.read_csv(\"/content/test.csv\")"
      ],
      "metadata": {
        "execution": {
          "iopub.status.busy": "2022-01-09T20:59:32.300587Z",
          "iopub.execute_input": "2022-01-09T20:59:32.300940Z",
          "iopub.status.idle": "2022-01-09T20:59:32.451440Z",
          "shell.execute_reply.started": "2022-01-09T20:59:32.300911Z",
          "shell.execute_reply": "2022-01-09T20:59:32.450588Z"
        },
        "trusted": true,
        "id": "r0VL4RB0xJm3"
      },
      "execution_count": 2,
      "outputs": []
    },
    {
      "cell_type": "code",
      "source": [
        ""
      ],
      "metadata": {
        "id": "a20hyOccBJ64"
      },
      "execution_count": 2,
      "outputs": []
    },
    {
      "cell_type": "code",
      "source": [
        "pip install transformers"
      ],
      "metadata": {
        "colab": {
          "base_uri": "https://localhost:8080/"
        },
        "id": "Iu_PQcxZxvHq",
        "outputId": "655405f6-5f56-44e2-f754-ef4576736ea6"
      },
      "execution_count": 3,
      "outputs": [
        {
          "output_type": "stream",
          "name": "stdout",
          "text": [
            "Requirement already satisfied: transformers in /usr/local/lib/python3.7/dist-packages (4.15.0)\n",
            "Requirement already satisfied: packaging>=20.0 in /usr/local/lib/python3.7/dist-packages (from transformers) (21.3)\n",
            "Requirement already satisfied: sacremoses in /usr/local/lib/python3.7/dist-packages (from transformers) (0.0.47)\n",
            "Requirement already satisfied: requests in /usr/local/lib/python3.7/dist-packages (from transformers) (2.23.0)\n",
            "Requirement already satisfied: tokenizers<0.11,>=0.10.1 in /usr/local/lib/python3.7/dist-packages (from transformers) (0.10.3)\n",
            "Requirement already satisfied: tqdm>=4.27 in /usr/local/lib/python3.7/dist-packages (from transformers) (4.62.3)\n",
            "Requirement already satisfied: importlib-metadata in /usr/local/lib/python3.7/dist-packages (from transformers) (4.8.2)\n",
            "Requirement already satisfied: regex!=2019.12.17 in /usr/local/lib/python3.7/dist-packages (from transformers) (2019.12.20)\n",
            "Requirement already satisfied: numpy>=1.17 in /usr/local/lib/python3.7/dist-packages (from transformers) (1.19.5)\n",
            "Requirement already satisfied: pyyaml>=5.1 in /usr/local/lib/python3.7/dist-packages (from transformers) (6.0)\n",
            "Requirement already satisfied: huggingface-hub<1.0,>=0.1.0 in /usr/local/lib/python3.7/dist-packages (from transformers) (0.2.1)\n",
            "Requirement already satisfied: filelock in /usr/local/lib/python3.7/dist-packages (from transformers) (3.4.0)\n",
            "Requirement already satisfied: typing-extensions>=3.7.4.3 in /usr/local/lib/python3.7/dist-packages (from huggingface-hub<1.0,>=0.1.0->transformers) (3.10.0.2)\n",
            "Requirement already satisfied: pyparsing!=3.0.5,>=2.0.2 in /usr/local/lib/python3.7/dist-packages (from packaging>=20.0->transformers) (3.0.6)\n",
            "Requirement already satisfied: zipp>=0.5 in /usr/local/lib/python3.7/dist-packages (from importlib-metadata->transformers) (3.6.0)\n",
            "Requirement already satisfied: certifi>=2017.4.17 in /usr/local/lib/python3.7/dist-packages (from requests->transformers) (2021.10.8)\n",
            "Requirement already satisfied: idna<3,>=2.5 in /usr/local/lib/python3.7/dist-packages (from requests->transformers) (2.10)\n",
            "Requirement already satisfied: urllib3!=1.25.0,!=1.25.1,<1.26,>=1.21.1 in /usr/local/lib/python3.7/dist-packages (from requests->transformers) (1.24.3)\n",
            "Requirement already satisfied: chardet<4,>=3.0.2 in /usr/local/lib/python3.7/dist-packages (from requests->transformers) (3.0.4)\n",
            "Requirement already satisfied: joblib in /usr/local/lib/python3.7/dist-packages (from sacremoses->transformers) (1.1.0)\n",
            "Requirement already satisfied: click in /usr/local/lib/python3.7/dist-packages (from sacremoses->transformers) (7.1.2)\n",
            "Requirement already satisfied: six in /usr/local/lib/python3.7/dist-packages (from sacremoses->transformers) (1.15.0)\n"
          ]
        }
      ]
    },
    {
      "cell_type": "code",
      "source": [
        "# Load Huggingface transformers\n",
        "from transformers import TFBertModel,  BertConfig, BertTokenizerFast, TFAutoModel\n",
        "\n",
        "# Then what you need from tensorflow.keras\n",
        "from tensorflow.keras.layers import Input, Dropout, Dense\n",
        "from tensorflow.keras.models import Model\n",
        "from tensorflow.keras.optimizers import Adam\n",
        "from tensorflow.keras.callbacks import EarlyStopping\n",
        "from tensorflow.keras.initializers import TruncatedNormal\n",
        "from tensorflow.keras.losses import CategoricalCrossentropy\n",
        "from tensorflow.keras.metrics import CategoricalAccuracy\n",
        "from tensorflow.keras.utils import to_categorical\n",
        "\n",
        "# And pandas for data import + sklearn because you allways need sklearn\n",
        "import pandas as pd\n",
        "import tensorflow as tf\n",
        "from sklearn.model_selection import train_test_split\n"
      ],
      "metadata": {
        "execution": {
          "iopub.status.busy": "2022-01-09T20:59:38.063397Z",
          "iopub.execute_input": "2022-01-09T20:59:38.063817Z",
          "iopub.status.idle": "2022-01-09T20:59:44.967627Z",
          "shell.execute_reply.started": "2022-01-09T20:59:38.063771Z",
          "shell.execute_reply": "2022-01-09T20:59:44.966776Z"
        },
        "trusted": true,
        "id": "InoI8-cAxJm7"
      },
      "execution_count": 4,
      "outputs": []
    },
    {
      "cell_type": "code",
      "source": [
        "data.head()"
      ],
      "metadata": {
        "execution": {
          "iopub.status.busy": "2022-01-09T21:01:07.064401Z",
          "iopub.execute_input": "2022-01-09T21:01:07.064849Z",
          "iopub.status.idle": "2022-01-09T21:01:07.077314Z",
          "shell.execute_reply.started": "2022-01-09T21:01:07.064808Z",
          "shell.execute_reply": "2022-01-09T21:01:07.076449Z"
        },
        "trusted": true,
        "colab": {
          "base_uri": "https://localhost:8080/",
          "height": 206
        },
        "id": "8FoPuGnfxJm_",
        "outputId": "23b3a5b8-dd8f-4f73-9875-857f0c140320"
      },
      "execution_count": 5,
      "outputs": [
        {
          "output_type": "execute_result",
          "data": {
            "text/html": [
              "\n",
              "  <div id=\"df-656d138d-6b52-4930-b0fa-46ea83ea2449\">\n",
              "    <div class=\"colab-df-container\">\n",
              "      <div>\n",
              "<style scoped>\n",
              "    .dataframe tbody tr th:only-of-type {\n",
              "        vertical-align: middle;\n",
              "    }\n",
              "\n",
              "    .dataframe tbody tr th {\n",
              "        vertical-align: top;\n",
              "    }\n",
              "\n",
              "    .dataframe thead th {\n",
              "        text-align: right;\n",
              "    }\n",
              "</style>\n",
              "<table border=\"1\" class=\"dataframe\">\n",
              "  <thead>\n",
              "    <tr style=\"text-align: right;\">\n",
              "      <th></th>\n",
              "      <th>review</th>\n",
              "      <th>sentiment</th>\n",
              "    </tr>\n",
              "  </thead>\n",
              "  <tbody>\n",
              "    <tr>\n",
              "      <th>0</th>\n",
              "      <td>Aditya Ingole Deaf</td>\n",
              "      <td>2</td>\n",
              "    </tr>\n",
              "    <tr>\n",
              "      <th>1</th>\n",
              "      <td>I love the app.! There is no issue but if u co...</td>\n",
              "      <td>1</td>\n",
              "    </tr>\n",
              "    <tr>\n",
              "      <th>2</th>\n",
              "      <td>So hard to use. The web app failed, and the mo...</td>\n",
              "      <td>0</td>\n",
              "    </tr>\n",
              "    <tr>\n",
              "      <th>3</th>\n",
              "      <td>I hate that the app makes a sound every time s...</td>\n",
              "      <td>1</td>\n",
              "    </tr>\n",
              "    <tr>\n",
              "      <th>4</th>\n",
              "      <td>Useless at BSE star MF meet.voice too mych slo...</td>\n",
              "      <td>0</td>\n",
              "    </tr>\n",
              "  </tbody>\n",
              "</table>\n",
              "</div>\n",
              "      <button class=\"colab-df-convert\" onclick=\"convertToInteractive('df-656d138d-6b52-4930-b0fa-46ea83ea2449')\"\n",
              "              title=\"Convert this dataframe to an interactive table.\"\n",
              "              style=\"display:none;\">\n",
              "        \n",
              "  <svg xmlns=\"http://www.w3.org/2000/svg\" height=\"24px\"viewBox=\"0 0 24 24\"\n",
              "       width=\"24px\">\n",
              "    <path d=\"M0 0h24v24H0V0z\" fill=\"none\"/>\n",
              "    <path d=\"M18.56 5.44l.94 2.06.94-2.06 2.06-.94-2.06-.94-.94-2.06-.94 2.06-2.06.94zm-11 1L8.5 8.5l.94-2.06 2.06-.94-2.06-.94L8.5 2.5l-.94 2.06-2.06.94zm10 10l.94 2.06.94-2.06 2.06-.94-2.06-.94-.94-2.06-.94 2.06-2.06.94z\"/><path d=\"M17.41 7.96l-1.37-1.37c-.4-.4-.92-.59-1.43-.59-.52 0-1.04.2-1.43.59L10.3 9.45l-7.72 7.72c-.78.78-.78 2.05 0 2.83L4 21.41c.39.39.9.59 1.41.59.51 0 1.02-.2 1.41-.59l7.78-7.78 2.81-2.81c.8-.78.8-2.07 0-2.86zM5.41 20L4 18.59l7.72-7.72 1.47 1.35L5.41 20z\"/>\n",
              "  </svg>\n",
              "      </button>\n",
              "      \n",
              "  <style>\n",
              "    .colab-df-container {\n",
              "      display:flex;\n",
              "      flex-wrap:wrap;\n",
              "      gap: 12px;\n",
              "    }\n",
              "\n",
              "    .colab-df-convert {\n",
              "      background-color: #E8F0FE;\n",
              "      border: none;\n",
              "      border-radius: 50%;\n",
              "      cursor: pointer;\n",
              "      display: none;\n",
              "      fill: #1967D2;\n",
              "      height: 32px;\n",
              "      padding: 0 0 0 0;\n",
              "      width: 32px;\n",
              "    }\n",
              "\n",
              "    .colab-df-convert:hover {\n",
              "      background-color: #E2EBFA;\n",
              "      box-shadow: 0px 1px 2px rgba(60, 64, 67, 0.3), 0px 1px 3px 1px rgba(60, 64, 67, 0.15);\n",
              "      fill: #174EA6;\n",
              "    }\n",
              "\n",
              "    [theme=dark] .colab-df-convert {\n",
              "      background-color: #3B4455;\n",
              "      fill: #D2E3FC;\n",
              "    }\n",
              "\n",
              "    [theme=dark] .colab-df-convert:hover {\n",
              "      background-color: #434B5C;\n",
              "      box-shadow: 0px 1px 3px 1px rgba(0, 0, 0, 0.15);\n",
              "      filter: drop-shadow(0px 1px 2px rgba(0, 0, 0, 0.3));\n",
              "      fill: #FFFFFF;\n",
              "    }\n",
              "  </style>\n",
              "\n",
              "      <script>\n",
              "        const buttonEl =\n",
              "          document.querySelector('#df-656d138d-6b52-4930-b0fa-46ea83ea2449 button.colab-df-convert');\n",
              "        buttonEl.style.display =\n",
              "          google.colab.kernel.accessAllowed ? 'block' : 'none';\n",
              "\n",
              "        async function convertToInteractive(key) {\n",
              "          const element = document.querySelector('#df-656d138d-6b52-4930-b0fa-46ea83ea2449');\n",
              "          const dataTable =\n",
              "            await google.colab.kernel.invokeFunction('convertToInteractive',\n",
              "                                                     [key], {});\n",
              "          if (!dataTable) return;\n",
              "\n",
              "          const docLinkHtml = 'Like what you see? Visit the ' +\n",
              "            '<a target=\"_blank\" href=https://colab.research.google.com/notebooks/data_table.ipynb>data table notebook</a>'\n",
              "            + ' to learn more about interactive tables.';\n",
              "          element.innerHTML = '';\n",
              "          dataTable['output_type'] = 'display_data';\n",
              "          await google.colab.output.renderOutput(dataTable, element);\n",
              "          const docLink = document.createElement('div');\n",
              "          docLink.innerHTML = docLinkHtml;\n",
              "          element.appendChild(docLink);\n",
              "        }\n",
              "      </script>\n",
              "    </div>\n",
              "  </div>\n",
              "  "
            ],
            "text/plain": [
              "                                              review  sentiment\n",
              "0                                 Aditya Ingole Deaf          2\n",
              "1  I love the app.! There is no issue but if u co...          1\n",
              "2  So hard to use. The web app failed, and the mo...          0\n",
              "3  I hate that the app makes a sound every time s...          1\n",
              "4  Useless at BSE star MF meet.voice too mych slo...          0"
            ]
          },
          "metadata": {},
          "execution_count": 5
        }
      ]
    },
    {
      "cell_type": "code",
      "source": [
        "data.count()"
      ],
      "metadata": {
        "colab": {
          "base_uri": "https://localhost:8080/"
        },
        "id": "1ni8Wluc9BHq",
        "outputId": "e4ea122a-28a8-4b88-a25d-c430779d593d"
      },
      "execution_count": 6,
      "outputs": [
        {
          "output_type": "execute_result",
          "data": {
            "text/plain": [
              "review       38492\n",
              "sentiment    38492\n",
              "dtype: int64"
            ]
          },
          "metadata": {},
          "execution_count": 6
        }
      ]
    },
    {
      "cell_type": "code",
      "source": [
        "data[\"sentiment\"].value_counts()"
      ],
      "metadata": {
        "execution": {
          "iopub.status.busy": "2022-01-09T21:24:01.545180Z",
          "iopub.execute_input": "2022-01-09T21:24:01.545505Z",
          "iopub.status.idle": "2022-01-09T21:24:01.556208Z",
          "shell.execute_reply.started": "2022-01-09T21:24:01.545475Z",
          "shell.execute_reply": "2022-01-09T21:24:01.555134Z"
        },
        "trusted": true,
        "colab": {
          "base_uri": "https://localhost:8080/"
        },
        "id": "_dRSjRWyxJnB",
        "outputId": "406a5de2-d418-456b-b85e-6d667d076b3a"
      },
      "execution_count": 7,
      "outputs": [
        {
          "output_type": "execute_result",
          "data": {
            "text/plain": [
              "2    14537\n",
              "0    12792\n",
              "1    11163\n",
              "Name: sentiment, dtype: int64"
            ]
          },
          "metadata": {},
          "execution_count": 7
        }
      ]
    },
    {
      "cell_type": "code",
      "source": [
        "dff=[len(i.split(\" \")) for i in data.review[:100]]\n",
        "max(dff)"
      ],
      "metadata": {
        "execution": {
          "iopub.status.busy": "2022-01-09T21:01:13.656130Z",
          "iopub.execute_input": "2022-01-09T21:01:13.656440Z",
          "iopub.status.idle": "2022-01-09T21:01:13.662501Z",
          "shell.execute_reply.started": "2022-01-09T21:01:13.656412Z",
          "shell.execute_reply": "2022-01-09T21:01:13.661626Z"
        },
        "trusted": true,
        "colab": {
          "base_uri": "https://localhost:8080/"
        },
        "id": "n6bcg6Q9xJnC",
        "outputId": "ce0bea5f-ab9a-4ba1-f0fa-879c9f481b98"
      },
      "execution_count": 8,
      "outputs": [
        {
          "output_type": "execute_result",
          "data": {
            "text/plain": [
              "85"
            ]
          },
          "metadata": {},
          "execution_count": 8
        }
      ]
    },
    {
      "cell_type": "code",
      "source": [
        "# dff"
      ],
      "metadata": {
        "execution": {
          "iopub.status.busy": "2022-01-09T21:01:14.703404Z",
          "iopub.execute_input": "2022-01-09T21:01:14.703743Z",
          "iopub.status.idle": "2022-01-09T21:01:14.709762Z",
          "shell.execute_reply.started": "2022-01-09T21:01:14.703712Z",
          "shell.execute_reply": "2022-01-09T21:01:14.708786Z"
        },
        "trusted": true,
        "id": "QEWkfYxcxJnE"
      },
      "execution_count": 9,
      "outputs": []
    },
    {
      "cell_type": "code",
      "source": [
        "data.review[:15]"
      ],
      "metadata": {
        "execution": {
          "iopub.status.busy": "2022-01-09T21:01:20.554072Z",
          "iopub.execute_input": "2022-01-09T21:01:20.554389Z",
          "iopub.status.idle": "2022-01-09T21:01:20.561788Z",
          "shell.execute_reply.started": "2022-01-09T21:01:20.554359Z",
          "shell.execute_reply": "2022-01-09T21:01:20.560850Z"
        },
        "trusted": true,
        "colab": {
          "base_uri": "https://localhost:8080/"
        },
        "id": "CadM9NMhxJnF",
        "outputId": "e0f67121-6598-464a-b784-038e05c3d4a8"
      },
      "execution_count": 10,
      "outputs": [
        {
          "output_type": "execute_result",
          "data": {
            "text/plain": [
              "0                                    Aditya Ingole Deaf\n",
              "1     I love the app.! There is no issue but if u co...\n",
              "2     So hard to use. The web app failed, and the mo...\n",
              "3     I hate that the app makes a sound every time s...\n",
              "4     Useless at BSE star MF meet.voice too mych slo...\n",
              "5      همه شون مسخره اند به مولا قسم ایتز اوکیوووو کوفت\n",
              "6                                        I love you app\n",
              "7     paki lagay naman po nito katulad sa computer l...\n",
              "8                                                  Good\n",
              "9     I have some complain about this app, whenever ...\n",
              "10    It is a good application but I can't joint to ...\n",
              "11    Very disappointed to know that Zoom virtual ba...\n",
              "12    Its so hackable by the gov. Or docs. And any h...\n",
              "13    I like the mobility the app provides. however,...\n",
              "14                                       Close my class\n",
              "Name: review, dtype: object"
            ]
          },
          "metadata": {},
          "execution_count": 10
        }
      ]
    },
    {
      "cell_type": "code",
      "source": [
        "X_train, X_val, y_train, y_val = train_test_split(data.index.values, \n",
        "                                                  data.sentiment.values, \n",
        "                                                  test_size=0.15, \n",
        "                                                  random_state=42, \n",
        "                                                  stratify=data.sentiment)\n",
        "\n",
        "data['data_type'] = ['not_set']*data.shape[0]\n",
        "\n",
        "data.loc[X_train, 'data_type'] = 'train'\n",
        "data.loc[X_val, 'data_type'] = 'val'\n"
      ],
      "metadata": {
        "execution": {
          "iopub.status.busy": "2022-01-09T21:03:23.756203Z",
          "iopub.execute_input": "2022-01-09T21:03:23.756530Z",
          "iopub.status.idle": "2022-01-09T21:03:23.885012Z",
          "shell.execute_reply.started": "2022-01-09T21:03:23.756499Z",
          "shell.execute_reply": "2022-01-09T21:03:23.884158Z"
        },
        "trusted": true,
        "id": "uRQGffvHxJnK"
      },
      "execution_count": 11,
      "outputs": []
    },
    {
      "cell_type": "code",
      "source": [
        "X_train"
      ],
      "metadata": {
        "execution": {
          "iopub.status.busy": "2022-01-09T21:03:25.228846Z",
          "iopub.execute_input": "2022-01-09T21:03:25.229180Z",
          "iopub.status.idle": "2022-01-09T21:03:25.234833Z",
          "shell.execute_reply.started": "2022-01-09T21:03:25.229152Z",
          "shell.execute_reply": "2022-01-09T21:03:25.233902Z"
        },
        "trusted": true,
        "colab": {
          "base_uri": "https://localhost:8080/"
        },
        "id": "J0xcNUyFxJnM",
        "outputId": "1713b17d-db63-4a97-e33e-fc44cfeff921"
      },
      "execution_count": 12,
      "outputs": [
        {
          "output_type": "execute_result",
          "data": {
            "text/plain": [
              "array([ 1649, 18659, 24991, ...,  1631, 14384, 23358])"
            ]
          },
          "metadata": {},
          "execution_count": 12
        }
      ]
    },
    {
      "cell_type": "code",
      "source": [
        "# Name of the BERT model to use\n",
        "model_name = 'bert-base-cased'\n",
        "\n",
        "# Max length of tokens\n",
        "max_length = max(dff)+3\n",
        "\n",
        "# Load transformers config and set output_hidden_states to False\n",
        "config = BertConfig.from_pretrained(model_name)\n",
        "config.output_hidden_states = False\n",
        "\n",
        "# Load BERT tokenizer\n",
        "tokenizer = BertTokenizerFast.from_pretrained(pretrained_model_name_or_path = model_name, config = config)\n",
        "\n"
      ],
      "metadata": {
        "execution": {
          "iopub.status.busy": "2022-01-09T21:03:26.440477Z",
          "iopub.execute_input": "2022-01-09T21:03:26.440820Z",
          "iopub.status.idle": "2022-01-09T21:03:30.547740Z",
          "shell.execute_reply.started": "2022-01-09T21:03:26.440789Z",
          "shell.execute_reply": "2022-01-09T21:03:30.546867Z"
        },
        "trusted": true,
        "id": "KY6fXvh5xJnN"
      },
      "execution_count": 13,
      "outputs": []
    },
    {
      "cell_type": "code",
      "source": [
        "# Build your model input\n",
        "input_ids = Input(shape=(max_length,), name='input_ids', dtype='int32')\n",
        "attention_mask = Input(shape=(max_length,), name='attention_mask', dtype='int32') \n",
        "inputs = {'input_ids': input_ids, 'attention_mask': attention_mask}\n",
        "\n",
        "bert = TFAutoModel.from_pretrained('bert-base-cased')\n",
        "embeddings = bert.bert(inputs)[1]  # access pooled activations with [1]\n",
        "\n",
        "# convert bert embeddings into 5 output classes\n",
        "x =Dense(1024, activation='relu')(embeddings)\n",
        "y =Dense(3, activation='softmax', name='outputs')(x)\n",
        "\n",
        "model = Model(inputs=inputs, outputs=y)\n",
        "#model.layers[2].trainable = False\n",
        "\n",
        "# Take a look at the model\n",
        "model.summary()"
      ],
      "metadata": {
        "execution": {
          "iopub.status.busy": "2022-01-09T21:03:32.304078Z",
          "iopub.execute_input": "2022-01-09T21:03:32.304418Z",
          "iopub.status.idle": "2022-01-09T21:04:10.021320Z",
          "shell.execute_reply.started": "2022-01-09T21:03:32.304388Z",
          "shell.execute_reply": "2022-01-09T21:04:10.020372Z"
        },
        "trusted": true,
        "colab": {
          "base_uri": "https://localhost:8080/"
        },
        "id": "o3_iOYSpxJnP",
        "outputId": "d8d644b2-cbad-4366-9e07-e10e5f3c9027"
      },
      "execution_count": 14,
      "outputs": [
        {
          "output_type": "stream",
          "name": "stderr",
          "text": [
            "Some layers from the model checkpoint at bert-base-cased were not used when initializing TFBertModel: ['nsp___cls', 'mlm___cls']\n",
            "- This IS expected if you are initializing TFBertModel from the checkpoint of a model trained on another task or with another architecture (e.g. initializing a BertForSequenceClassification model from a BertForPreTraining model).\n",
            "- This IS NOT expected if you are initializing TFBertModel from the checkpoint of a model that you expect to be exactly identical (initializing a BertForSequenceClassification model from a BertForSequenceClassification model).\n",
            "All the layers of TFBertModel were initialized from the model checkpoint at bert-base-cased.\n",
            "If your task is similar to the task the model of the checkpoint was trained on, you can already use TFBertModel for predictions without further training.\n"
          ]
        },
        {
          "output_type": "stream",
          "name": "stdout",
          "text": [
            "Model: \"model\"\n",
            "__________________________________________________________________________________________________\n",
            " Layer (type)                   Output Shape         Param #     Connected to                     \n",
            "==================================================================================================\n",
            " attention_mask (InputLayer)    [(None, 88)]         0           []                               \n",
            "                                                                                                  \n",
            " input_ids (InputLayer)         [(None, 88)]         0           []                               \n",
            "                                                                                                  \n",
            " bert (TFBertMainLayer)         TFBaseModelOutputWi  108310272   ['attention_mask[0][0]',         \n",
            "                                thPoolingAndCrossAt               'input_ids[0][0]']              \n",
            "                                tentions(last_hidde                                               \n",
            "                                n_state=(None, 88,                                                \n",
            "                                768),                                                             \n",
            "                                 pooler_output=(Non                                               \n",
            "                                e, 768),                                                          \n",
            "                                 past_key_values=No                                               \n",
            "                                ne, hidden_states=N                                               \n",
            "                                one, attentions=Non                                               \n",
            "                                e, cross_attentions                                               \n",
            "                                =None)                                                            \n",
            "                                                                                                  \n",
            " dense (Dense)                  (None, 1024)         787456      ['bert[0][1]']                   \n",
            "                                                                                                  \n",
            " outputs (Dense)                (None, 3)            3075        ['dense[0][0]']                  \n",
            "                                                                                                  \n",
            "==================================================================================================\n",
            "Total params: 109,100,803\n",
            "Trainable params: 109,100,803\n",
            "Non-trainable params: 0\n",
            "__________________________________________________________________________________________________\n"
          ]
        }
      ]
    },
    {
      "cell_type": "code",
      "source": [
        "y_senti = to_categorical(data[data.data_type=='train'].sentiment)\n",
        "\n",
        "# Tokenize the input \n",
        "x = tokenizer(\n",
        "    text=data[data.data_type=='train'].review.to_list(),\n",
        "    add_special_tokens=True,\n",
        "    max_length=max_length,\n",
        "    truncation=True,\n",
        "    padding=True, \n",
        "    return_tensors='tf',\n",
        "    return_token_type_ids = False,\n",
        "    return_attention_mask = True,\n",
        "    verbose = True)\n",
        "\n",
        "train=tf.data.Dataset.from_tensor_slices((x['input_ids'], x['attention_mask'], y_senti))\n",
        "def map_func(input_ids, masks, labels):\n",
        "    # convert three-item tuple into a two-item tuple where the input item is a dictionary\n",
        "    return {'input_ids': input_ids, 'attention_mask': masks}, labels\n",
        "\n",
        "train = train.map(map_func)\n",
        "batch_size = 32\n",
        "\n",
        "# shuffle and batch - dropping any remaining samples that don't cleanly\n",
        "train = train.shuffle(100).batch(batch_size, drop_remainder=True)"
      ],
      "metadata": {
        "execution": {
          "iopub.status.busy": "2022-01-09T21:04:10.022772Z",
          "iopub.execute_input": "2022-01-09T21:04:10.023101Z",
          "iopub.status.idle": "2022-01-09T21:04:16.145211Z",
          "shell.execute_reply.started": "2022-01-09T21:04:10.023066Z",
          "shell.execute_reply": "2022-01-09T21:04:16.144363Z"
        },
        "trusted": true,
        "id": "3zckM4mxxJnR"
      },
      "execution_count": 15,
      "outputs": []
    },
    {
      "cell_type": "code",
      "source": [
        "y_senti"
      ],
      "metadata": {
        "colab": {
          "base_uri": "https://localhost:8080/"
        },
        "id": "AJMZOlURzDHW",
        "outputId": "a078d39b-80d8-4468-c2a3-7cfbd182be81"
      },
      "execution_count": 16,
      "outputs": [
        {
          "output_type": "execute_result",
          "data": {
            "text/plain": [
              "array([[0., 0., 1.],\n",
              "       [0., 1., 0.],\n",
              "       [1., 0., 0.],\n",
              "       ...,\n",
              "       [0., 1., 0.],\n",
              "       [0., 1., 0.],\n",
              "       [1., 0., 0.]], dtype=float32)"
            ]
          },
          "metadata": {},
          "execution_count": 16
        }
      ]
    },
    {
      "cell_type": "code",
      "source": [
        "train.take(1)"
      ],
      "metadata": {
        "execution": {
          "iopub.status.busy": "2022-01-09T21:04:16.146864Z",
          "iopub.execute_input": "2022-01-09T21:04:16.147190Z",
          "iopub.status.idle": "2022-01-09T21:04:16.154853Z",
          "shell.execute_reply.started": "2022-01-09T21:04:16.147154Z",
          "shell.execute_reply": "2022-01-09T21:04:16.153842Z"
        },
        "trusted": true,
        "colab": {
          "base_uri": "https://localhost:8080/"
        },
        "id": "OLfY-7_cxJnU",
        "outputId": "a310f12e-a534-4532-f470-308e014fe195"
      },
      "execution_count": 17,
      "outputs": [
        {
          "output_type": "execute_result",
          "data": {
            "text/plain": [
              "<TakeDataset shapes: ({input_ids: (32, 88), attention_mask: (32, 88)}, (32, 3)), types: ({input_ids: tf.int32, attention_mask: tf.int32}, tf.float32)>"
            ]
          },
          "metadata": {},
          "execution_count": 17
        }
      ]
    },
    {
      "cell_type": "code",
      "source": [
        "y_senti = to_categorical(data[data.data_type=='val'].sentiment)\n",
        "\n",
        "# Tokenize the input \n",
        "x = tokenizer(\n",
        "    text=data[data.data_type=='val'].review.to_list(),\n",
        "    add_special_tokens=True,\n",
        "    max_length=max_length,\n",
        "    truncation=True,\n",
        "    padding=True, \n",
        "    return_tensors='tf',\n",
        "    return_token_type_ids = False,\n",
        "    return_attention_mask = True,\n",
        "    verbose = True)\n",
        "\n",
        "val = tf.data.Dataset.from_tensor_slices((x['input_ids'], x['attention_mask'], y_senti))\n",
        "val = val.map(map_func)\n",
        "val = val.shuffle(100).batch(batch_size, drop_remainder=True)"
      ],
      "metadata": {
        "execution": {
          "iopub.status.busy": "2022-01-09T21:04:16.156631Z",
          "iopub.execute_input": "2022-01-09T21:04:16.157075Z",
          "iopub.status.idle": "2022-01-09T21:04:17.600129Z",
          "shell.execute_reply.started": "2022-01-09T21:04:16.157033Z",
          "shell.execute_reply": "2022-01-09T21:04:17.599318Z"
        },
        "trusted": true,
        "id": "2cOjStElxJnW"
      },
      "execution_count": 18,
      "outputs": []
    },
    {
      "cell_type": "code",
      "source": [
        "optimizer = Adam(lr=1e-5, decay=1e-6)\n",
        "loss = CategoricalCrossentropy()\n",
        "acc = CategoricalAccuracy('accuracy')\n",
        "\n",
        "model.compile(optimizer=optimizer, loss=loss, metrics=[acc])"
      ],
      "metadata": {
        "execution": {
          "iopub.status.busy": "2022-01-09T21:04:17.601290Z",
          "iopub.execute_input": "2022-01-09T21:04:17.601609Z",
          "iopub.status.idle": "2022-01-09T21:04:17.706295Z",
          "shell.execute_reply.started": "2022-01-09T21:04:17.601576Z",
          "shell.execute_reply": "2022-01-09T21:04:17.705449Z"
        },
        "trusted": true,
        "colab": {
          "base_uri": "https://localhost:8080/"
        },
        "id": "ka585-CvxJnZ",
        "outputId": "e7c9a84b-b44f-40e1-c309-30ab163d6b8a"
      },
      "execution_count": 19,
      "outputs": [
        {
          "output_type": "stream",
          "name": "stderr",
          "text": [
            "/usr/local/lib/python3.7/dist-packages/keras/optimizer_v2/adam.py:105: UserWarning: The `lr` argument is deprecated, use `learning_rate` instead.\n",
            "  super(Adam, self).__init__(name, **kwargs)\n"
          ]
        }
      ]
    },
    {
      "cell_type": "code",
      "source": [
        "# Fit the model\n",
        "history = model.fit(\n",
        "    train,\n",
        "    validation_data = val,\n",
        "    epochs = 5)"
      ],
      "metadata": {
        "execution": {
          "iopub.status.busy": "2022-01-09T21:29:43.011530Z",
          "iopub.execute_input": "2022-01-09T21:29:43.011975Z"
        },
        "trusted": true,
        "colab": {
          "base_uri": "https://localhost:8080/"
        },
        "id": "WDW_a0V0xJna",
        "outputId": "19634984-1f8a-4b08-ef16-f36ff54ea8f3"
      },
      "execution_count": 20,
      "outputs": [
        {
          "output_type": "stream",
          "name": "stdout",
          "text": [
            "Epoch 1/5\n",
            "1007/1007 [==============================] - 1465s 1s/step - loss: 0.8122 - accuracy: 0.6234 - val_loss: 0.7712 - val_accuracy: 0.6503\n",
            "Epoch 2/5\n",
            "1007/1007 [==============================] - 1448s 1s/step - loss: 0.6963 - accuracy: 0.6927 - val_loss: 0.7399 - val_accuracy: 0.6811\n",
            "Epoch 3/5\n",
            "1007/1007 [==============================] - 1453s 1s/step - loss: 0.5834 - accuracy: 0.7549 - val_loss: 0.7344 - val_accuracy: 0.7011\n",
            "Epoch 4/5\n",
            "1007/1007 [==============================] - 1460s 1s/step - loss: 0.4667 - accuracy: 0.8140 - val_loss: 0.7607 - val_accuracy: 0.7212\n",
            "Epoch 5/5\n",
            "1007/1007 [==============================] - 1463s 1s/step - loss: 0.3798 - accuracy: 0.8515 - val_loss: 0.8218 - val_accuracy: 0.7345\n"
          ]
        }
      ]
    },
    {
      "cell_type": "code",
      "source": [
        "import pandas as pd\n",
        "import matplotlib.pyplot as plt\n",
        "\n",
        "learning_data = pd.DataFrame(history.history)\n",
        "# learning_data.head()\n",
        "learning_data.plot(figsize=(10,5))\n",
        "plt.grid(True)\n",
        "plt.show()"
      ],
      "metadata": {
        "colab": {
          "base_uri": "https://localhost:8080/",
          "height": 320
        },
        "id": "_V1MwF6mexUa",
        "outputId": "b074fc53-913e-41ef-cc02-e90a33a6a2a5"
      },
      "execution_count": 35,
      "outputs": [
        {
          "output_type": "display_data",
          "data": {
            "image/png": "[encoded data removed]",
            "text/plain": [
              "<Figure size 720x360 with 1 Axes>"
            ]
          },
          "metadata": {
            "needs_background": "light"
          }
        }
      ]
    },
    {
      "cell_type": "code",
      "source": [
        "model.save('./sentiment-analysis-on-movie-reviews/sentiment_model')"
      ],
      "metadata": {
        "execution": {
          "iopub.status.busy": "2022-01-09T21:21:15.833778Z",
          "iopub.status.idle": "2022-01-09T21:21:15.834158Z"
        },
        "trusted": true,
        "colab": {
          "base_uri": "https://localhost:8080/"
        },
        "id": "uVGIFLWKxJnc",
        "outputId": "1b01fa74-0149-4d11-87c9-814b4d018640"
      },
      "execution_count": 21,
      "outputs": [
        {
          "output_type": "stream",
          "name": "stderr",
          "text": [
            "WARNING:absl:Found untraced functions such as embeddings_layer_call_fn, embeddings_layer_call_and_return_conditional_losses, encoder_layer_call_fn, encoder_layer_call_and_return_conditional_losses, pooler_layer_call_fn while saving (showing 5 of 1050). These functions will not be directly callable after loading.\n"
          ]
        },
        {
          "output_type": "stream",
          "name": "stdout",
          "text": [
            "INFO:tensorflow:Assets written to: ./sentiment-analysis-on-movie-reviews/sentiment_model/assets\n"
          ]
        },
        {
          "output_type": "stream",
          "name": "stderr",
          "text": [
            "INFO:tensorflow:Assets written to: ./sentiment-analysis-on-movie-reviews/sentiment_model/assets\n"
          ]
        }
      ]
    },
    {
      "cell_type": "code",
      "source": [
        "#model = tf.keras.models.load_model('./sentiment-analysis-on-movie-reviews/sentiment_model')\n",
        "#tokenizer = BertTokenizer.from_pretrained('bert-base-cased')"
      ],
      "metadata": {
        "execution": {
          "iopub.status.busy": "2022-01-09T21:21:15.835331Z",
          "iopub.status.idle": "2022-01-09T21:21:15.835891Z"
        },
        "trusted": true,
        "id": "eOrL_zCqxJnd"
      },
      "execution_count": 22,
      "outputs": []
    },
    {
      "cell_type": "code",
      "source": [
        "model.save('my_model.h5')"
      ],
      "metadata": {
        "id": "Qcv8TWrVKJlh"
      },
      "execution_count": 25,
      "outputs": []
    },
    {
      "cell_type": "code",
      "source": [
        "# # Recreate the exact same model, including its weights and the optimizer\n",
        "# new_model = tf.keras.models.load_model('my_model.h5')\n",
        "\n",
        "# # Show the model architecture\n",
        "# new_model.summary()"
      ],
      "metadata": {
        "execution": {
          "iopub.status.busy": "2022-01-09T21:21:15.836995Z",
          "iopub.status.idle": "2022-01-09T21:21:15.837550Z"
        },
        "trusted": true,
        "id": "4BcaR-rExJne"
      },
      "execution_count": 26,
      "outputs": []
    },
    {
      "cell_type": "code",
      "source": [
        "test.shape[0]"
      ],
      "metadata": {
        "execution": {
          "iopub.status.busy": "2022-01-09T21:21:15.838741Z",
          "iopub.status.idle": "2022-01-09T21:21:15.839290Z"
        },
        "trusted": true,
        "colab": {
          "base_uri": "https://localhost:8080/"
        },
        "id": "Q87_ncWnxJnf",
        "outputId": "9911a6c9-81b4-4259-965c-7239fbf03970"
      },
      "execution_count": 27,
      "outputs": [
        {
          "output_type": "execute_result",
          "data": {
            "text/plain": [
              "2026"
            ]
          },
          "metadata": {},
          "execution_count": 27
        }
      ]
    },
    {
      "cell_type": "code",
      "source": [
        "test"
      ],
      "metadata": {
        "colab": {
          "base_uri": "https://localhost:8080/",
          "height": 424
        },
        "id": "kr1ZynKCfQEt",
        "outputId": "3cfb03c2-dafc-437f-8de9-477287cb9cde"
      },
      "execution_count": 38,
      "outputs": [
        {
          "output_type": "execute_result",
          "data": {
            "text/html": [
              "\n",
              "  <div id=\"df-bc247c14-36a2-41d9-80f0-5d26a97eb18b\">\n",
              "    <div class=\"colab-df-container\">\n",
              "      <div>\n",
              "<style scoped>\n",
              "    .dataframe tbody tr th:only-of-type {\n",
              "        vertical-align: middle;\n",
              "    }\n",
              "\n",
              "    .dataframe tbody tr th {\n",
              "        vertical-align: top;\n",
              "    }\n",
              "\n",
              "    .dataframe thead th {\n",
              "        text-align: right;\n",
              "    }\n",
              "</style>\n",
              "<table border=\"1\" class=\"dataframe\">\n",
              "  <thead>\n",
              "    <tr style=\"text-align: right;\">\n",
              "      <th></th>\n",
              "      <th>review</th>\n",
              "      <th>sentiment</th>\n",
              "    </tr>\n",
              "  </thead>\n",
              "  <tbody>\n",
              "    <tr>\n",
              "      <th>0</th>\n",
              "      <td>Very misleading not user friendly</td>\n",
              "      <td>0</td>\n",
              "    </tr>\n",
              "    <tr>\n",
              "      <th>1</th>\n",
              "      <td>Malik</td>\n",
              "      <td>1</td>\n",
              "    </tr>\n",
              "    <tr>\n",
              "      <th>2</th>\n",
              "      <td>Video,  Voice, Usability, Uncluttered, Chic!!!...</td>\n",
              "      <td>2</td>\n",
              "    </tr>\n",
              "    <tr>\n",
              "      <th>3</th>\n",
              "      <td>It s not working hayzzz</td>\n",
              "      <td>0</td>\n",
              "    </tr>\n",
              "    <tr>\n",
              "      <th>4</th>\n",
              "      <td>#4200Gujarat</td>\n",
              "      <td>0</td>\n",
              "    </tr>\n",
              "    <tr>\n",
              "      <th>...</th>\n",
              "      <td>...</td>\n",
              "      <td>...</td>\n",
              "    </tr>\n",
              "    <tr>\n",
              "      <th>2021</th>\n",
              "      <td>Aa</td>\n",
              "      <td>1</td>\n",
              "    </tr>\n",
              "    <tr>\n",
              "      <th>2022</th>\n",
              "      <td>This app drops and freezes a lot during meetings.</td>\n",
              "      <td>0</td>\n",
              "    </tr>\n",
              "    <tr>\n",
              "      <th>2023</th>\n",
              "      <td>Extremely effective tool very easy controls An...</td>\n",
              "      <td>2</td>\n",
              "    </tr>\n",
              "    <tr>\n",
              "      <th>2024</th>\n",
              "      <td>Ok</td>\n",
              "      <td>2</td>\n",
              "    </tr>\n",
              "    <tr>\n",
              "      <th>2025</th>\n",
              "      <td>Worst app ever Mic suddenly stops working Prbs...</td>\n",
              "      <td>0</td>\n",
              "    </tr>\n",
              "  </tbody>\n",
              "</table>\n",
              "<p>2026 rows × 2 columns</p>\n",
              "</div>\n",
              "      <button class=\"colab-df-convert\" onclick=\"convertToInteractive('df-bc247c14-36a2-41d9-80f0-5d26a97eb18b')\"\n",
              "              title=\"Convert this dataframe to an interactive table.\"\n",
              "              style=\"display:none;\">\n",
              "        \n",
              "  <svg xmlns=\"http://www.w3.org/2000/svg\" height=\"24px\"viewBox=\"0 0 24 24\"\n",
              "       width=\"24px\">\n",
              "    <path d=\"M0 0h24v24H0V0z\" fill=\"none\"/>\n",
              "    <path d=\"M18.56 5.44l.94 2.06.94-2.06 2.06-.94-2.06-.94-.94-2.06-.94 2.06-2.06.94zm-11 1L8.5 8.5l.94-2.06 2.06-.94-2.06-.94L8.5 2.5l-.94 2.06-2.06.94zm10 10l.94 2.06.94-2.06 2.06-.94-2.06-.94-.94-2.06-.94 2.06-2.06.94z\"/><path d=\"M17.41 7.96l-1.37-1.37c-.4-.4-.92-.59-1.43-.59-.52 0-1.04.2-1.43.59L10.3 9.45l-7.72 7.72c-.78.78-.78 2.05 0 2.83L4 21.41c.39.39.9.59 1.41.59.51 0 1.02-.2 1.41-.59l7.78-7.78 2.81-2.81c.8-.78.8-2.07 0-2.86zM5.41 20L4 18.59l7.72-7.72 1.47 1.35L5.41 20z\"/>\n",
              "  </svg>\n",
              "      </button>\n",
              "      \n",
              "  <style>\n",
              "    .colab-df-container {\n",
              "      display:flex;\n",
              "      flex-wrap:wrap;\n",
              "      gap: 12px;\n",
              "    }\n",
              "\n",
              "    .colab-df-convert {\n",
              "      background-color: #E8F0FE;\n",
              "      border: none;\n",
              "      border-radius: 50%;\n",
              "      cursor: pointer;\n",
              "      display: none;\n",
              "      fill: #1967D2;\n",
              "      height: 32px;\n",
              "      padding: 0 0 0 0;\n",
              "      width: 32px;\n",
              "    }\n",
              "\n",
              "    .colab-df-convert:hover {\n",
              "      background-color: #E2EBFA;\n",
              "      box-shadow: 0px 1px 2px rgba(60, 64, 67, 0.3), 0px 1px 3px 1px rgba(60, 64, 67, 0.15);\n",
              "      fill: #174EA6;\n",
              "    }\n",
              "\n",
              "    [theme=dark] .colab-df-convert {\n",
              "      background-color: #3B4455;\n",
              "      fill: #D2E3FC;\n",
              "    }\n",
              "\n",
              "    [theme=dark] .colab-df-convert:hover {\n",
              "      background-color: #434B5C;\n",
              "      box-shadow: 0px 1px 3px 1px rgba(0, 0, 0, 0.15);\n",
              "      filter: drop-shadow(0px 1px 2px rgba(0, 0, 0, 0.3));\n",
              "      fill: #FFFFFF;\n",
              "    }\n",
              "  </style>\n",
              "\n",
              "      <script>\n",
              "        const buttonEl =\n",
              "          document.querySelector('#df-bc247c14-36a2-41d9-80f0-5d26a97eb18b button.colab-df-convert');\n",
              "        buttonEl.style.display =\n",
              "          google.colab.kernel.accessAllowed ? 'block' : 'none';\n",
              "\n",
              "        async function convertToInteractive(key) {\n",
              "          const element = document.querySelector('#df-bc247c14-36a2-41d9-80f0-5d26a97eb18b');\n",
              "          const dataTable =\n",
              "            await google.colab.kernel.invokeFunction('convertToInteractive',\n",
              "                                                     [key], {});\n",
              "          if (!dataTable) return;\n",
              "\n",
              "          const docLinkHtml = 'Like what you see? Visit the ' +\n",
              "            '<a target=\"_blank\" href=https://colab.research.google.com/notebooks/data_table.ipynb>data table notebook</a>'\n",
              "            + ' to learn more about interactive tables.';\n",
              "          element.innerHTML = '';\n",
              "          dataTable['output_type'] = 'display_data';\n",
              "          await google.colab.output.renderOutput(dataTable, element);\n",
              "          const docLink = document.createElement('div');\n",
              "          docLink.innerHTML = docLinkHtml;\n",
              "          element.appendChild(docLink);\n",
              "        }\n",
              "      </script>\n",
              "    </div>\n",
              "  </div>\n",
              "  "
            ],
            "text/plain": [
              "                                                 review  sentiment\n",
              "0                     Very misleading not user friendly          0\n",
              "1                                                 Malik          1\n",
              "2     Video,  Voice, Usability, Uncluttered, Chic!!!...          2\n",
              "3                               It s not working hayzzz          0\n",
              "4                                          #4200Gujarat          0\n",
              "...                                                 ...        ...\n",
              "2021                                                 Aa          1\n",
              "2022  This app drops and freezes a lot during meetings.          0\n",
              "2023  Extremely effective tool very easy controls An...          2\n",
              "2024                                                 Ok          2\n",
              "2025  Worst app ever Mic suddenly stops working Prbs...          0\n",
              "\n",
              "[2026 rows x 2 columns]"
            ]
          },
          "metadata": {},
          "execution_count": 38
        }
      ]
    },
    {
      "cell_type": "code",
      "source": [
        "x = tokenizer(\n",
        "    text=test.review.to_list(),\n",
        "    add_special_tokens=True,\n",
        "    max_length=max_length,\n",
        "    truncation=True,\n",
        "    padding=True, \n",
        "    return_tensors='tf',\n",
        "    return_token_type_ids = False,\n",
        "    return_attention_mask = True,\n",
        "    verbose = True)"
      ],
      "metadata": {
        "execution": {
          "iopub.status.busy": "2022-01-09T21:21:15.840416Z",
          "iopub.status.idle": "2022-01-09T21:21:15.840965Z"
        },
        "trusted": true,
        "id": "UlrhXkBGxJng"
      },
      "execution_count": 28,
      "outputs": []
    },
    {
      "cell_type": "code",
      "source": [
        "x"
      ],
      "metadata": {
        "execution": {
          "iopub.status.busy": "2022-01-09T21:21:15.842060Z",
          "iopub.status.idle": "2022-01-09T21:21:15.842615Z"
        },
        "trusted": true,
        "colab": {
          "base_uri": "https://localhost:8080/"
        },
        "id": "f8fg-6C0xJni",
        "outputId": "bf9d19a6-deaa-4fb8-9a48-d47043cc8089"
      },
      "execution_count": 29,
      "outputs": [
        {
          "output_type": "execute_result",
          "data": {
            "text/plain": [
              "{'input_ids': <tf.Tensor: shape=(2026, 88), dtype=int32, numpy=\n",
              "array([[  101,  6424, 25175, ...,     0,     0,     0],\n",
              "       [  101, 15147,   102, ...,     0,     0,     0],\n",
              "       [  101,  6301,   117, ...,     0,     0,     0],\n",
              "       ...,\n",
              "       [  101, 19005,  1193, ...,     0,     0,     0],\n",
              "       [  101, 23330,   102, ...,     0,     0,     0],\n",
              "       [  101, 25120, 12647, ...,     0,     0,     0]], dtype=int32)>, 'attention_mask': <tf.Tensor: shape=(2026, 88), dtype=int32, numpy=\n",
              "array([[1, 1, 1, ..., 0, 0, 0],\n",
              "       [1, 1, 1, ..., 0, 0, 0],\n",
              "       [1, 1, 1, ..., 0, 0, 0],\n",
              "       ...,\n",
              "       [1, 1, 1, ..., 0, 0, 0],\n",
              "       [1, 1, 1, ..., 0, 0, 0],\n",
              "       [1, 1, 1, ..., 0, 0, 0]], dtype=int32)>}"
            ]
          },
          "metadata": {},
          "execution_count": 29
        }
      ]
    },
    {
      "cell_type": "code",
      "source": [
        "items=tf.data.Dataset.from_tensor_slices((x['input_ids'],x['attention_mask']))"
      ],
      "metadata": {
        "execution": {
          "iopub.status.busy": "2022-01-09T21:21:15.843812Z",
          "iopub.status.idle": "2022-01-09T21:21:15.844371Z"
        },
        "trusted": true,
        "id": "F8D9dODvxJnj"
      },
      "execution_count": 30,
      "outputs": []
    },
    {
      "cell_type": "code",
      "source": [
        "items"
      ],
      "metadata": {
        "execution": {
          "iopub.status.busy": "2022-01-09T21:21:15.845493Z",
          "iopub.status.idle": "2022-01-09T21:21:15.846053Z"
        },
        "trusted": true,
        "colab": {
          "base_uri": "https://localhost:8080/"
        },
        "id": "-F98XAkSxJnk",
        "outputId": "f0479c79-5358-4bc2-abae-2192326475ed"
      },
      "execution_count": 31,
      "outputs": [
        {
          "output_type": "execute_result",
          "data": {
            "text/plain": [
              "<TensorSliceDataset shapes: ((88,), (88,)), types: (tf.int32, tf.int32)>"
            ]
          },
          "metadata": {},
          "execution_count": 31
        }
      ]
    },
    {
      "cell_type": "code",
      "source": [
        "def map_func(input_ids, masks):\n",
        "    return {'input_ids': input_ids, 'attention_mask': masks}\n",
        "\n",
        "items = items.map(map_func)\n",
        "items = items.batch(32)"
      ],
      "metadata": {
        "execution": {
          "iopub.status.busy": "2022-01-09T21:21:15.847245Z",
          "iopub.status.idle": "2022-01-09T21:21:15.847799Z"
        },
        "trusted": true,
        "id": "ZNoUINukxJnl"
      },
      "execution_count": 32,
      "outputs": []
    },
    {
      "cell_type": "code",
      "source": [
        "items"
      ],
      "metadata": {
        "execution": {
          "iopub.status.busy": "2022-01-09T21:21:15.848902Z",
          "iopub.status.idle": "2022-01-09T21:21:15.849470Z"
        },
        "trusted": true,
        "colab": {
          "base_uri": "https://localhost:8080/"
        },
        "id": "6yM0rHEvxJnm",
        "outputId": "30770254-e6bb-4f43-8805-010db14fdb2d"
      },
      "execution_count": 33,
      "outputs": [
        {
          "output_type": "execute_result",
          "data": {
            "text/plain": [
              "<BatchDataset shapes: {input_ids: (None, 88), attention_mask: (None, 88)}, types: {input_ids: tf.int32, attention_mask: tf.int32}>"
            ]
          },
          "metadata": {},
          "execution_count": 33
        }
      ]
    },
    {
      "cell_type": "code",
      "source": [
        "predictions=model.predict(items).argmax(axis=-1)"
      ],
      "metadata": {
        "execution": {
          "iopub.status.busy": "2022-01-09T21:21:15.850710Z",
          "iopub.status.idle": "2022-01-09T21:21:15.851344Z"
        },
        "trusted": true,
        "id": "yXgEG3VDxJnn"
      },
      "execution_count": 34,
      "outputs": []
    },
    {
      "cell_type": "code",
      "source": [
        "len(predictions)"
      ],
      "metadata": {
        "execution": {
          "iopub.status.busy": "2022-01-09T21:21:15.854459Z",
          "iopub.status.idle": "2022-01-09T21:21:15.855257Z"
        },
        "trusted": true,
        "colab": {
          "base_uri": "https://localhost:8080/"
        },
        "id": "wlIWaDCAxJnq",
        "outputId": "64ca5653-56a1-4809-adcb-914d777603d4"
      },
      "execution_count": 36,
      "outputs": [
        {
          "output_type": "execute_result",
          "data": {
            "text/plain": [
              "2026"
            ]
          },
          "metadata": {},
          "execution_count": 36
        }
      ]
    },
    {
      "cell_type": "code",
      "source": [
        "predictions"
      ],
      "metadata": {
        "execution": {
          "iopub.status.busy": "2022-01-09T21:21:15.856421Z",
          "iopub.status.idle": "2022-01-09T21:21:15.857233Z"
        },
        "trusted": true,
        "colab": {
          "base_uri": "https://localhost:8080/"
        },
        "id": "dGSyJAmNxJnr",
        "outputId": "205e4896-ef41-4fa7-860e-06880d7f6fd0"
      },
      "execution_count": 37,
      "outputs": [
        {
          "output_type": "execute_result",
          "data": {
            "text/plain": [
              "array([0, 1, 2, ..., 2, 2, 0])"
            ]
          },
          "metadata": {},
          "execution_count": 37
        }
      ]
    },
    {
      "cell_type": "code",
      "source": [
        "from sklearn.metrics import confusion_matrix\n",
        "cm = confusion_matrix(predictions , test.sentiment )\n",
        "cm"
      ],
      "metadata": {
        "colab": {
          "base_uri": "https://localhost:8080/"
        },
        "id": "uHcabNj8e62b",
        "outputId": "1e3109d7-a5ca-4d3a-b630-d444cc6b6480"
      },
      "execution_count": 39,
      "outputs": [
        {
          "output_type": "execute_result",
          "data": {
            "text/plain": [
              "array([[538, 102,  41],\n",
              "       [ 89, 373,  91],\n",
              "       [ 47, 112, 633]])"
            ]
          },
          "metadata": {},
          "execution_count": 39
        }
      ]
    },
    {
      "cell_type": "code",
      "source": [
        "from sklearn.metrics import classification_report, confusion_matrix\n",
        "print(classification_report(test.sentiment, predictions))"
      ],
      "metadata": {
        "colab": {
          "base_uri": "https://localhost:8080/"
        },
        "id": "8elGckwKe68C",
        "outputId": "e7c74287-7e15-4e32-aedb-0b03ed23baf4"
      },
      "execution_count": 41,
      "outputs": [
        {
          "output_type": "stream",
          "name": "stdout",
          "text": [
            "              precision    recall  f1-score   support\n",
            "\n",
            "           0       0.79      0.80      0.79       674\n",
            "           1       0.67      0.64      0.65       587\n",
            "           2       0.80      0.83      0.81       765\n",
            "\n",
            "    accuracy                           0.76      2026\n",
            "   macro avg       0.75      0.75      0.75      2026\n",
            "weighted avg       0.76      0.76      0.76      2026\n",
            "\n"
          ]
        }
      ]
    },
    {
      "cell_type": "code",
      "source": [
        ""
      ],
      "metadata": {
        "id": "BmaDmZUce7BX"
      },
      "execution_count": null,
      "outputs": []
    },
    {
      "cell_type": "code",
      "source": [
        ""
      ],
      "metadata": {
        "id": "htVNDeOre7GS"
      },
      "execution_count": null,
      "outputs": []
    },
    {
      "cell_type": "code",
      "source": [
        "submission = pd.DataFrame()\n",
        "submission['PhraseId'] = test['PhraseId']\n",
        "submission['Sentiment'] = predictions\n",
        "submission.to_csv(\"submission.csv\", index=False)"
      ],
      "metadata": {
        "execution": {
          "iopub.status.busy": "2022-01-09T21:21:15.858466Z",
          "iopub.status.idle": "2022-01-09T21:21:15.859272Z"
        },
        "trusted": true,
        "id": "nXG4zfdNxJnt"
      },
      "execution_count": null,
      "outputs": []
    },
    {
      "cell_type": "code",
      "source": [
        ""
      ],
      "metadata": {
        "id": "hwCqt4m2e5ui"
      },
      "execution_count": null,
      "outputs": []
    },
    {
      "cell_type": "code",
      "source": [
        ""
      ],
      "metadata": {
        "id": "T6QjOrw3e5zt"
      },
      "execution_count": null,
      "outputs": []
    },
    {
      "cell_type": "code",
      "source": [
        ""
      ],
      "metadata": {
        "id": "MRJK7u9Ce55Q"
      },
      "execution_count": null,
      "outputs": []
    },
    {
      "cell_type": "code",
      "source": [
        ""
      ],
      "metadata": {
        "id": "V63i8wjZxJnu"
      },
      "execution_count": null,
      "outputs": []
    }
  ]
}